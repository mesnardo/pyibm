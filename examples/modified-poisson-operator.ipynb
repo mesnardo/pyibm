{
 "cells": [
  {
   "cell_type": "markdown",
   "metadata": {},
   "source": [
    "# Augmented Poisson Operator\n",
    "\n",
    "Objectives:\n",
    "\n",
    "* Capture the non-zero structure of the augmented Poisson operator (in presence of a immersed boundary)"
   ]
  },
  {
   "cell_type": "code",
   "execution_count": 1,
   "metadata": {},
   "outputs": [],
   "source": [
    "import math\n",
    "import numpy\n",
    "from scipy.sparse import csr_matrix, hstack, identity\n",
    "\n",
    "import pyibm\n",
    "\n",
    "from helper import plot_contourf"
   ]
  },
  {
   "cell_type": "code",
   "execution_count": 2,
   "metadata": {},
   "outputs": [],
   "source": [
    "%matplotlib inline"
   ]
  },
  {
   "cell_type": "code",
   "execution_count": 3,
   "metadata": {},
   "outputs": [
    {
     "data": {
      "text/plain": [
       "'0.1'"
      ]
     },
     "execution_count": 3,
     "metadata": {},
     "output_type": "execute_result"
    }
   ],
   "source": [
    "pyibm.__version__"
   ]
  },
  {
   "cell_type": "markdown",
   "metadata": {},
   "source": [
    "## Create stretched Cartesian grids"
   ]
  },
  {
   "cell_type": "code",
   "execution_count": 4,
   "metadata": {},
   "outputs": [
    {
     "name": "stdout",
     "output_type": "stream",
     "text": [
      "Grid(size=151980, shape=(298, 510), gridlines=[\n",
      "Gridline(start=-15.0, end=35.0, size=510),\n",
      "Gridline(start=-25.0, end=25.0, size=298)])\n",
      "Grid(size=151682, shape=(298, 509), gridlines=[\n",
      "Gridline(start=-15.0, end=35.0, size=509),\n",
      "Gridline(start=-25.0, end=25.0, size=298)])\n",
      "Grid(size=151470, shape=(297, 510), gridlines=[\n",
      "Gridline(start=-15.0, end=35.0, size=510),\n",
      "Gridline(start=-25.0, end=25.0, size=297)])\n"
     ]
    }
   ],
   "source": [
    "# Set parameters of the computational grid.\n",
    "xlim, ylim = (-15.0, 35.0), (-25.0, 25.0)  # domain limits\n",
    "xbox, ybox = (-0.75, 0.75), (-0.75, 0.75)  # uniform region\n",
    "dx, dy = 1.5 / 90, 1.5 / 90  # grid spacings in the uniform region\n",
    "\n",
    "config_x = [dict(start=xlim[0], end=xbox[0],\n",
    "                 width=dx, stretching=1.03, reverse=True),\n",
    "            dict(start=xbox[0], end=xbox[1], width=dx),\n",
    "            dict(start=xbox[1], end=xlim[1],\n",
    "                 width=dx, stretching=1.01)]\n",
    "\n",
    "config_y = [dict(start=ylim[0], end=ybox[0],\n",
    "                 width=dy, stretching=1.04, reverse=True),\n",
    "            dict(start=ybox[0], end=ybox[1], width=dy),\n",
    "            dict(start=ybox[1], end=ylim[1],\n",
    "                 width=dy, stretching=1.04)]\n",
    "\n",
    "config = {'x': dict(start=xlim[0], segments=config_x),\n",
    "          'y': dict(start=ylim[0], segments=config_y)}\n",
    "\n",
    "# Create staggered grids.\n",
    "grid = pyibm.GridBase(config=config)  # vertex grid\n",
    "gridc = pyibm.GridCellCentered(grid=grid)  # cell-centered grid\n",
    "gridx = pyibm.GridFaceX(grid=grid)  # x-face centered grid\n",
    "gridy = pyibm.GridFaceY(grid=grid)  # y-face centered grid\n",
    "print(gridc)\n",
    "print(gridx)\n",
    "print(gridy)"
   ]
  },
  {
   "cell_type": "markdown",
   "metadata": {},
   "source": [
    "## Assemble operators"
   ]
  },
  {
   "cell_type": "code",
   "execution_count": 5,
   "metadata": {},
   "outputs": [
    {
     "name": "stdout",
     "output_type": "stream",
     "text": [
      "Name:  GHat\n",
      "Type:  <class 'scipy.sparse.csr.csr_matrix'>\n",
      "Shape:  (303152, 151980)\n",
      "Size:  606304\n",
      "Min/Max:  -60.134521255196866 60.134521255196866\n",
      "Name:  DHat\n",
      "Type:  <class 'scipy.sparse.csr.csr_matrix'>\n",
      "Shape:  (151980, 303152)\n",
      "Size:  606304\n",
      "Min/Max:  -0.9487500515261473 0.9487500515261473\n"
     ]
    }
   ],
   "source": [
    "# Assemble non-normalized gradient operator.\n",
    "GHat = pyibm.assemble_GHat(gridc, gridx, gridy)\n",
    "pyibm.print_matrix_info(GHat, name='GHat')\n",
    "\n",
    "# Assemble non-normalized divergence operator.\n",
    "DHat = pyibm.assemble_DHat(gridc, gridx, gridy)\n",
    "pyibm.print_matrix_info(DHat, name='DHat')"
   ]
  },
  {
   "cell_type": "code",
   "execution_count": 6,
   "metadata": {},
   "outputs": [],
   "source": [
    "# Assemble diagonal scaling operators.\n",
    "MHat = pyibm.assemble_MHat(gridx, gridy)\n",
    "R = pyibm.assemble_R(gridx, gridy)\n",
    "RInv = pyibm.diagonal_inv(R)\n",
    "\n",
    "# $M = \\hat{M} R^{-1}$ (Taira & Colonius, 2007).\n",
    "M = MHat @ RInv"
   ]
  },
  {
   "cell_type": "code",
   "execution_count": 7,
   "metadata": {},
   "outputs": [
    {
     "name": "stdout",
     "output_type": "stream",
     "text": [
      "Name:  G\n",
      "Type:  <class 'scipy.sparse.csr.csr_matrix'>\n",
      "Shape:  (303152, 151980)\n",
      "Size:  606304\n",
      "Min/Max:  -1.0 1.0\n",
      "Name:  D\n",
      "Type:  <class 'scipy.sparse.csr.csr_matrix'>\n",
      "Shape:  (151980, 303152)\n",
      "Size:  606304\n",
      "Min/Max:  -1.0 1.0\n",
      "Name:  D + G^T\n",
      "Type:  <class 'scipy.sparse.csr.csr_matrix'>\n",
      "Shape:  (151980, 303152)\n",
      "Size:  0\n"
     ]
    }
   ],
   "source": [
    "# Normalize gradient and divergence operators.\n",
    "# $G = \\hat{M} \\hat{G}$ (Taira & Colonius, 2007).\n",
    "G = MHat @ GHat\n",
    "pyibm.print_matrix_info(G, name='G')\n",
    "# $D = \\hat{D} R^{-1}$ (Taira & Colonius, 2007).\n",
    "D = DHat @ RInv\n",
    "pyibm.print_matrix_info(D, name='D')\n",
    "\n",
    "# Divergence should be the opposite transposed gradient.\n",
    "K = D + G.T\n",
    "K = K.multiply(abs(K) > 1e-15) # remove extremely small values\n",
    "pyibm.print_matrix_info(K, name='D + G^T')"
   ]
  },
  {
   "cell_type": "markdown",
   "metadata": {},
   "source": [
    "Indeed, we have $D = -G^T$ with their elements equal to $+1$ or $-1$."
   ]
  },
  {
   "cell_type": "markdown",
   "metadata": {},
   "source": [
    "## Assemble delta operator"
   ]
  },
  {
   "cell_type": "code",
   "execution_count": 8,
   "metadata": {},
   "outputs": [],
   "source": [
    "def circle(radius=0.5, center=(0.0, 0.0), ds=0.1, phi=0.0):\n",
    "    \"\"\"Compute uniformly distributed coordinates on circle.\"\"\"\n",
    "    xc, yc = center\n",
    "    N = math.ceil(2 * math.pi * radius / ds)\n",
    "    theta = numpy.linspace(0.0, 2 * math.pi, num=N + 1)[:-1] + phi\n",
    "    x = xc + radius * numpy.cos(theta)\n",
    "    y = yc + radius * numpy.sin(theta)\n",
    "    return x, y"
   ]
  },
  {
   "cell_type": "code",
   "execution_count": 9,
   "metadata": {},
   "outputs": [
    {
     "data": {
      "text/plain": [
       "Body(ndim=2, size=189)"
      ]
     },
     "execution_count": 9,
     "metadata": {},
     "output_type": "execute_result"
    }
   ],
   "source": [
    "# Create an immersed boundary.\n",
    "body = pyibm.Body(*circle(ds=dx), grid=gridc)\n",
    "body"
   ]
  },
  {
   "cell_type": "code",
   "execution_count": 10,
   "metadata": {},
   "outputs": [],
   "source": [
    "# Set the delta kernel to use and its size.\n",
    "delta_kernel = pyibm.delta_roma_et_al_1999\n",
    "delta_kernel_size = 2"
   ]
  },
  {
   "cell_type": "code",
   "execution_count": 11,
   "metadata": {},
   "outputs": [
    {
     "name": "stdout",
     "output_type": "stream",
     "text": [
      "Name:  Delta\n",
      "Type:  <class 'scipy.sparse.csr.csr_matrix'>\n",
      "Shape:  (378, 303152)\n",
      "Size:  3396\n",
      "Min/Max:  -1.7758636351745096e-13 1599.977177658422\n"
     ]
    }
   ],
   "source": [
    "# Assemble the delta operator.\n",
    "Op = pyibm.assemble_delta(body, gridc, gridx, gridy,\n",
    "                          kernel=delta_kernel,\n",
    "                          kernel_size=delta_kernel_size)\n",
    "pyibm.print_matrix_info(Op, name='Delta')"
   ]
  },
  {
   "cell_type": "code",
   "execution_count": 12,
   "metadata": {},
   "outputs": [
    {
     "name": "stdout",
     "output_type": "stream",
     "text": [
      "Name:  EHat\n",
      "Type:  <class 'scipy.sparse.csr.csr_matrix'>\n",
      "Shape:  (378, 303152)\n",
      "Size:  3396\n",
      "Min/Max:  -4.9329545421514156e-17 0.44443810490511726\n",
      "Name:  E\n",
      "Type:  <class 'scipy.sparse.csr.csr_matrix'>\n",
      "Shape:  (378, 303152)\n",
      "Size:  3396\n",
      "Min/Max:  -2.95977272529085e-15 26.66628629430713\n"
     ]
    }
   ],
   "source": [
    "# Assemble interpolation operator as in Taira & Colonius (2007).\n",
    "alpha = dx * dy\n",
    "EHat = alpha * Op\n",
    "pyibm.print_matrix_info(EHat, name='EHat')\n",
    "\n",
    "# Assemble normalized interpolation (Taira & Colonius, 2007).\n",
    "E = EHat @ RInv\n",
    "pyibm.print_matrix_info(E, name='E')"
   ]
  },
  {
   "cell_type": "code",
   "execution_count": 13,
   "metadata": {},
   "outputs": [
    {
     "name": "stdout",
     "output_type": "stream",
     "text": [
      "Name:  HHat\n",
      "Type:  <class 'scipy.sparse.csr.csr_matrix'>\n",
      "Shape:  (303152, 378)\n",
      "Size:  3396\n",
      "Min/Max:  -2.951737164867962e-15 26.593889331884572\n",
      "Name:  H\n",
      "Type:  <class 'scipy.sparse.csr.csr_matrix'>\n",
      "Shape:  (303152, 378)\n",
      "Size:  3396\n",
      "Min/Max:  -4.919561941446602e-17 0.443231488864742\n"
     ]
    }
   ],
   "source": [
    "# Assemble spreading operator (Taira & Colonius, 2007).\n",
    "p1, p2 = (body.x[0], body.y[0]), (body.x[1], body.y[1])\n",
    "ds = math.sqrt((p1[0] - p2[0])**2 + (p1[1] - p2[1])**2)\n",
    "beta = ds\n",
    "HHat = beta / alpha * csr_matrix(EHat.T)\n",
    "pyibm.print_matrix_info(HHat, name='HHat')\n",
    "\n",
    "# $H = \\hat{M} \\hat{H}$ (Taira & Colonius, 2007).\n",
    "H = MHat @ HHat\n",
    "pyibm.print_matrix_info(H, name='H')"
   ]
  },
  {
   "cell_type": "code",
   "execution_count": 14,
   "metadata": {},
   "outputs": [],
   "source": [
    "# Check that the velocity is correctly interpolated onto the boundary.\n",
    "a, b = 2.2, -1.1\n",
    "ux = a * numpy.ones(gridx.size)\n",
    "uy = b * numpy.ones(gridy.size)\n",
    "u = numpy.concatenate((ux, uy))\n",
    "\n",
    "U = EHat @ u\n",
    "Ux, Uy = U[::body.ndim], U[1::body.ndim]\n",
    "\n",
    "assert numpy.all(Ux - a < 1e-12)\n",
    "assert numpy.all(Uy - b < 1e-12)"
   ]
  },
  {
   "cell_type": "code",
   "execution_count": 15,
   "metadata": {},
   "outputs": [],
   "source": [
    "# Check total Lagrangian forces is conserved after spreading.\n",
    "a, b = 2.2, -1.1\n",
    "Fx = a * numpy.ones(body.size)\n",
    "Fy = b * numpy.ones(body.size)\n",
    "F = numpy.empty(body.ndim * body.size)\n",
    "F[::body.ndim], F[1::body.ndim] = Fx, Fy\n",
    "\n",
    "f = HHat @ F\n",
    "fx, fy = f[:gridx.size], f[gridx.size:]\n",
    "\n",
    "assert abs(numpy.sum(Fx) * beta - numpy.sum(fx) * alpha) < 1e-12\n",
    "assert abs(numpy.sum(Fy) * beta - numpy.sum(fy) * alpha) < 1e-12"
   ]
  },
  {
   "cell_type": "markdown",
   "metadata": {},
   "source": [
    "## Assemble LHS operator of velocity system"
   ]
  },
  {
   "cell_type": "code",
   "execution_count": 16,
   "metadata": {},
   "outputs": [
    {
     "name": "stdout",
     "output_type": "stream",
     "text": [
      "Name:  LHat\n",
      "Type:  <class 'scipy.sparse.csr.csr_matrix'>\n",
      "Shape:  (303152, 303152)\n",
      "Size:  1512532\n",
      "Symmetric:  False\n",
      "Min/Max:  -14438.64493694621 3624.2863724586446\n",
      "Name:  L\n",
      "Type:  <class 'scipy.sparse.csr.csr_matrix'>\n",
      "Shape:  (303152, 303152)\n",
      "Size:  1512532\n",
      "Symmetric:  False\n",
      "Min/Max:  -406082.701915188 202344.96463084465\n"
     ]
    }
   ],
   "source": [
    "# Assemble the Laplacian operator.\n",
    "LHat = pyibm.assemble_LHat(gridx, gridy)\n",
    "pyibm.print_matrix_info(LHat, name='LHat')\n",
    "\n",
    "# $L = \\hat{M} \\hat{L} R^{-1}$ (Taira & Colonius, 2007). \n",
    "L = MHat @ LHat @ RInv\n",
    "pyibm.print_matrix_info(L, name='L')"
   ]
  },
  {
   "cell_type": "code",
   "execution_count": 17,
   "metadata": {},
   "outputs": [
    {
     "name": "stdout",
     "output_type": "stream",
     "text": [
      "Name:  AHat\n",
      "Type:  <class 'scipy.sparse.csr.csr_matrix'>\n",
      "Shape:  (303152, 303152)\n",
      "Size:  1512532\n",
      "Symmetric:  False\n",
      "Min/Max:  -18.121431862293225 172.19322468473104\n",
      "Name:  A (TC2007)\n",
      "Type:  <class 'scipy.sparse.csr.csr_matrix'>\n",
      "Shape:  (303152, 303152)\n",
      "Size:  1512532\n",
      "Symmetric:  True\n",
      "Min/Max:  -1011.7248231542231 7638.533449317351\n"
     ]
    }
   ],
   "source": [
    "# Assemble the implicit operator for the velocity system.\n",
    "dt = 0.01  # time-step size\n",
    "I = identity(gridx.size + gridy.size)\n",
    "Re = 100.0  # Reynolds number\n",
    "a_I = 0.5  # implicit coefficient of Crank-Nicolson scheme\n",
    "AHat = 1 / dt * I - a_I / Re * LHat\n",
    "pyibm.print_matrix_info(AHat, name='AHat')\n",
    "\n",
    "# $A = \\hat{M} \\hat{A} R^{-1}$ (Taira & Colonius, 2007).\n",
    "A = MHat @ AHat @ RInv\n",
    "pyibm.print_matrix_info(A, name='A (TC2007)')"
   ]
  },
  {
   "cell_type": "markdown",
   "metadata": {},
   "source": [
    "## Assemble Poisson operator"
   ]
  },
  {
   "cell_type": "code",
   "execution_count": 18,
   "metadata": {},
   "outputs": [
    {
     "name": "stdout",
     "output_type": "stream",
     "text": [
      "Name:  B1\n",
      "Type:  <class 'scipy.sparse.csr.csr_matrix'>\n",
      "Shape:  (303152, 303152)\n",
      "Size:  303152\n",
      "Symmetric:  True\n",
      "Min/Max:  0.01 0.01\n",
      "Condition number:  (0.009999999999999998, 0.010000000000000004, 1.0000000000000004)\n"
     ]
    }
   ],
   "source": [
    "N = 1  # order of Taylor series truncation\n",
    "dt = 0.01  # time-step size\n",
    "BN = pyibm.assemble_BN(gridx, gridy, dt=dt, N=N, L=L, M=M)\n",
    "pyibm.print_matrix_info(BN, name=f'B{N}')\n",
    "print('Condition number: ', pyibm.condition_number(BN))"
   ]
  },
  {
   "cell_type": "code",
   "execution_count": 19,
   "metadata": {},
   "outputs": [
    {
     "name": "stdout",
     "output_type": "stream",
     "text": [
      "Name:  QTBNQ\n",
      "Type:  <class 'scipy.sparse.csr.csr_matrix'>\n",
      "Shape:  (152358, 152358)\n",
      "Size:  769464\n",
      "Symmetric:  True\n",
      "Min/Max:  -0.2307380108688827 9.000000000000194\n",
      "Condition number:  (-3.036712303798813e-20, 18.316919904611247, -6.03182589331807e+20)\n"
     ]
    }
   ],
   "source": [
    "# Assemble QTBNQ as in Taira & Colonius (2007).\n",
    "Q = hstack([G, E.T])\n",
    "QTBNQ = Q.T @ BN @ Q\n",
    "pyibm.print_matrix_info(QTBNQ, name='QTBNQ')\n",
    "print('Condition number: ', pyibm.condition_number(QTBNQ))"
   ]
  },
  {
   "cell_type": "code",
   "execution_count": 20,
   "metadata": {},
   "outputs": [
    {
     "data": {
      "image/png": "[encoded data removed]",
      "text/plain": [
       "<Figure size 432x432 with 1 Axes>"
      ]
     },
     "metadata": {},
     "output_type": "display_data"
    }
   ],
   "source": [
    "# Plot the non-zero structure of the operator.\n",
    "fig, ax = pyibm.plot_matrix(QTBNQ, color='darkred', markersize=10)\n",
    "ax.set_facecolor('lightgray')\n",
    "for loc in ('left', 'right', 'bottom', 'top'):\n",
    "    ax.spines[loc].set_visible(False)\n",
    "ax.text(0.5, 0.9, '$Q_1 B^N Q_2$',\n",
    "        horizontalalignment='center', verticalalignment='center',\n",
    "        transform=ax.transAxes, fontsize=30)\n",
    "fig.tight_layout()\n",
    "fig.savefig('modified_poisson_operator.png', dpi=300, bbox_inches='tight')"
   ]
  },
  {
   "cell_type": "code",
   "execution_count": null,
   "metadata": {},
   "outputs": [],
   "source": []
  }
 ],
 "metadata": {
  "kernelspec": {
   "display_name": "Python 3 (PyIBM)",
   "language": "python",
   "name": "py36-pyibm"
  },
  "language_info": {
   "codemirror_mode": {
    "name": "ipython",
    "version": 3
   },
   "file_extension": ".py",
   "mimetype": "text/x-python",
   "name": "python",
   "nbconvert_exporter": "python",
   "pygments_lexer": "ipython3",
   "version": "3.6.8"
  }
 },
 "nbformat": 4,
 "nbformat_minor": 2
}
